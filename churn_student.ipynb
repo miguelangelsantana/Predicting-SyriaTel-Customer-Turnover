{
 "cells": [
  {
   "cell_type": "markdown",
   "metadata": {},
   "source": [
    "# Final Project Submission\n",
    "\n",
    "Please fill out:\n",
    "* Student name: Miguel Santana\n",
    "* Student pace: Full Time\n",
    "* Instructor name: James Irving"
   ]
  },
  {
   "cell_type": "markdown",
   "metadata": {},
   "source": [
    "# Project Methodology"
   ]
  },
  {
   "cell_type": "markdown",
   "metadata": {},
   "source": [
    "**SyriaTel is a telecommunications company looking to improve customer churn. The company provided client data in order to better understand whether a consumer would stop doing business with the company. The OSEMN framework will be used to analyze the dataset and prepare it for machine learning algorithms that will classify feature importance. Selected features will be used to give business insight and reduce customer churn.**"
   ]
  },
  {
   "cell_type": "markdown",
   "metadata": {},
   "source": [
    "# Data Analysis and Modeling\n",
    "OSEMN Framework\n",
    "\n",
    "* Obtain\n",
    "* Scrub\n",
    "* Explore\n",
    "* Model\n",
    "* INterpret"
   ]
  },
  {
   "cell_type": "code",
   "execution_count": 1,
   "metadata": {
    "ExecuteTime": {
     "end_time": "2020-10-20T05:06:59.040036Z",
     "start_time": "2020-10-20T05:06:58.389447Z"
    }
   },
   "outputs": [
    {
     "name": "stderr",
     "output_type": "stream",
     "text": [
      "/Users/miguelsantana/opt/anaconda3/envs/learn-env/lib/python3.6/site-packages/statsmodels/tools/_testing.py:19: FutureWarning: pandas.util.testing is deprecated. Use the functions in the public API at pandas.testing instead.\n",
      "  import pandas.util.testing as tm\n"
     ]
    }
   ],
   "source": [
    "import pandas as pd\n",
    "import numpy as np\n",
    "import seaborn as sns\n",
    "import matplotlib as mlp\n",
    "import matplotlib.pyplot as plt\n",
    "%matplotlib inline \n",
    "from IPython.display import Image\n",
    "import os\n",
    "pd.set_option('display.max_columns', 50)\n",
    "import warnings\n",
    "warnings.filterwarnings(\"ignore\")"
   ]
  },
  {
   "cell_type": "markdown",
   "metadata": {},
   "source": [
    "# Obtain\n",
    "<div class=\"alert alert-success\">\n",
    "\n",
    "The SyriaTel dataset was obtained on Kaggle's website. The dataset can be found [here.](https://www.kaggle.com/becksddf/churn-in-telecoms-dataset) \n",
    "\n",
    "</div>"
   ]
  },
  {
   "cell_type": "markdown",
   "metadata": {},
   "source": [
    "## Data Frame"
   ]
  },
  {
   "cell_type": "code",
   "execution_count": 2,
   "metadata": {
    "ExecuteTime": {
     "end_time": "2020-10-20T05:06:59.057647Z",
     "start_time": "2020-10-20T05:06:59.042391Z"
    }
   },
   "outputs": [],
   "source": [
    "df = pd.read_csv('churn_dataset.csv')"
   ]
  },
  {
   "cell_type": "markdown",
   "metadata": {},
   "source": [
    "# Scrub\n",
    "## Datatypes"
   ]
  },
  {
   "cell_type": "code",
   "execution_count": 3,
   "metadata": {
    "ExecuteTime": {
     "end_time": "2020-10-20T05:06:59.071776Z",
     "start_time": "2020-10-20T05:06:59.059812Z"
    },
    "scrolled": false
   },
   "outputs": [
    {
     "name": "stdout",
     "output_type": "stream",
     "text": [
      "<class 'pandas.core.frame.DataFrame'>\n",
      "RangeIndex: 3333 entries, 0 to 3332\n",
      "Data columns (total 21 columns):\n",
      " #   Column                  Non-Null Count  Dtype  \n",
      "---  ------                  --------------  -----  \n",
      " 0   state                   3333 non-null   object \n",
      " 1   account length          3333 non-null   int64  \n",
      " 2   area code               3333 non-null   int64  \n",
      " 3   phone number            3333 non-null   object \n",
      " 4   international plan      3333 non-null   object \n",
      " 5   voice mail plan         3333 non-null   object \n",
      " 6   number vmail messages   3333 non-null   int64  \n",
      " 7   total day minutes       3333 non-null   float64\n",
      " 8   total day calls         3333 non-null   int64  \n",
      " 9   total day charge        3333 non-null   float64\n",
      " 10  total eve minutes       3333 non-null   float64\n",
      " 11  total eve calls         3333 non-null   int64  \n",
      " 12  total eve charge        3333 non-null   float64\n",
      " 13  total night minutes     3333 non-null   float64\n",
      " 14  total night calls       3333 non-null   int64  \n",
      " 15  total night charge      3333 non-null   float64\n",
      " 16  total intl minutes      3333 non-null   float64\n",
      " 17  total intl calls        3333 non-null   int64  \n",
      " 18  total intl charge       3333 non-null   float64\n",
      " 19  customer service calls  3333 non-null   int64  \n",
      " 20  churn                   3333 non-null   bool   \n",
      "dtypes: bool(1), float64(8), int64(8), object(4)\n",
      "memory usage: 524.2+ KB\n"
     ]
    }
   ],
   "source": [
    "df.info()"
   ]
  },
  {
   "cell_type": "markdown",
   "metadata": {},
   "source": [
    "## Null Data"
   ]
  },
  {
   "cell_type": "code",
   "execution_count": 4,
   "metadata": {
    "ExecuteTime": {
     "end_time": "2020-10-20T05:06:59.079861Z",
     "start_time": "2020-10-20T05:06:59.074049Z"
    }
   },
   "outputs": [
    {
     "data": {
      "text/plain": [
       "False"
      ]
     },
     "execution_count": 4,
     "metadata": {},
     "output_type": "execute_result"
    }
   ],
   "source": [
    "df.isnull().values.any() # Checking for nulls"
   ]
  },
  {
   "cell_type": "markdown",
   "metadata": {},
   "source": [
    "## Duplicates"
   ]
  },
  {
   "cell_type": "code",
   "execution_count": 5,
   "metadata": {
    "ExecuteTime": {
     "end_time": "2020-10-20T05:06:59.085247Z",
     "start_time": "2020-10-20T05:06:59.081511Z"
    }
   },
   "outputs": [
    {
     "data": {
      "text/plain": [
       "False"
      ]
     },
     "execution_count": 5,
     "metadata": {},
     "output_type": "execute_result"
    }
   ],
   "source": [
    "# Checking for duplicated values in the unique \"identifier\" column\n",
    "df['phone number'].duplicated().values.any() "
   ]
  },
  {
   "cell_type": "markdown",
   "metadata": {},
   "source": [
    "## Feature Values"
   ]
  },
  {
   "cell_type": "code",
   "execution_count": 6,
   "metadata": {
    "ExecuteTime": {
     "end_time": "2020-10-20T05:06:59.138111Z",
     "start_time": "2020-10-20T05:06:59.086606Z"
    }
   },
   "outputs": [
    {
     "name": "stdout",
     "output_type": "stream",
     "text": [
      "state WV    106\n",
      "MN     84\n",
      "NY     83\n",
      "AL     80\n",
      "WI     78\n",
      "OH     78\n",
      "OR     78\n",
      "WY     77\n",
      "VA     77\n",
      "CT     74\n",
      "Name: state, dtype: int64\n",
      "\n",
      "\n",
      "account length 105    43\n",
      "87     42\n",
      "93     40\n",
      "101    40\n",
      "90     39\n",
      "86     38\n",
      "95     38\n",
      "116    37\n",
      "100    37\n",
      "112    36\n",
      "Name: account length, dtype: int64\n",
      "\n",
      "\n",
      "area code 415    1655\n",
      "510     840\n",
      "408     838\n",
      "Name: area code, dtype: int64\n",
      "\n",
      "\n",
      "phone number 334-1508    1\n",
      "406-2678    1\n",
      "358-1329    1\n",
      "345-7900    1\n",
      "384-5907    1\n",
      "381-5047    1\n",
      "359-9223    1\n",
      "380-7321    1\n",
      "409-4671    1\n",
      "348-5725    1\n",
      "Name: phone number, dtype: int64\n",
      "\n",
      "\n",
      "international plan no     3010\n",
      "yes     323\n",
      "Name: international plan, dtype: int64\n",
      "\n",
      "\n",
      "voice mail plan no     2411\n",
      "yes     922\n",
      "Name: voice mail plan, dtype: int64\n",
      "\n",
      "\n",
      "number vmail messages 0     2411\n",
      "31      60\n",
      "29      53\n",
      "28      51\n",
      "33      46\n",
      "27      44\n",
      "30      44\n",
      "24      42\n",
      "26      41\n",
      "32      41\n",
      "Name: number vmail messages, dtype: int64\n",
      "\n",
      "\n",
      "total day minutes 174.5    8\n",
      "159.5    8\n",
      "154.0    8\n",
      "175.4    7\n",
      "162.3    7\n",
      "        ..\n",
      "199.9    1\n",
      "105.8    1\n",
      "125.6    1\n",
      "179.8    1\n",
      "270.8    1\n",
      "Name: total day minutes, Length: 1667, dtype: int64\n",
      "\n",
      "\n",
      "total day calls 102    78\n",
      "105    75\n",
      "107    69\n",
      "95     69\n",
      "104    68\n",
      "108    67\n",
      "97     67\n",
      "110    66\n",
      "106    66\n",
      "88     66\n",
      "Name: total day calls, dtype: int64\n",
      "\n",
      "\n",
      "total day charge 27.12    8\n",
      "26.18    8\n",
      "29.67    8\n",
      "31.18    7\n",
      "27.59    7\n",
      "        ..\n",
      "16.42    1\n",
      "24.07    1\n",
      "12.75    1\n",
      "5.25     1\n",
      "10.00    1\n",
      "Name: total day charge, Length: 1111, dtype: int64\n",
      "\n",
      "\n",
      "total eve minutes 169.9    9\n",
      "230.9    7\n",
      "209.4    7\n",
      "201.0    7\n",
      "220.6    7\n",
      "        ..\n",
      "335.0    1\n",
      "258.9    1\n",
      "134.7    1\n",
      "318.8    1\n",
      "317.2    1\n",
      "Name: total eve minutes, Length: 1611, dtype: int64\n",
      "\n",
      "\n",
      "total eve calls 105    80\n",
      "94     79\n",
      "108    71\n",
      "97     70\n",
      "102    70\n",
      "88     69\n",
      "101    68\n",
      "109    67\n",
      "98     66\n",
      "111    65\n",
      "Name: total eve calls, dtype: int64\n",
      "\n",
      "\n",
      "total eve charge 14.25    11\n",
      "16.12    11\n",
      "15.90    10\n",
      "18.62     9\n",
      "14.44     9\n",
      "         ..\n",
      "13.27     1\n",
      "4.98      1\n",
      "25.49     1\n",
      "12.70     1\n",
      "10.00     1\n",
      "Name: total eve charge, Length: 1011, dtype: int64\n",
      "\n",
      "\n",
      "total night minutes 210.0    8\n",
      "214.6    8\n",
      "197.4    8\n",
      "191.4    8\n",
      "188.2    8\n",
      "        ..\n",
      "132.3    1\n",
      "306.2    1\n",
      "293.5    1\n",
      "271.7    1\n",
      "182.6    1\n",
      "Name: total night minutes, Length: 1591, dtype: int64\n",
      "\n",
      "\n",
      "total night calls 105    84\n",
      "104    78\n",
      "91     76\n",
      "102    72\n",
      "100    69\n",
      "106    69\n",
      "98     67\n",
      "94     66\n",
      "103    65\n",
      "108    64\n",
      "Name: total night calls, dtype: int64\n",
      "\n",
      "\n",
      "total night charge 9.66     15\n",
      "9.45     15\n",
      "8.88     14\n",
      "8.47     14\n",
      "7.69     13\n",
      "         ..\n",
      "8.27      3\n",
      "10.60     3\n",
      "8.00      3\n",
      "9.50      3\n",
      "10.00     3\n",
      "Name: total night charge, Length: 458, dtype: int64\n",
      "\n",
      "\n",
      "total intl minutes 10.0    62\n",
      "Name: total intl minutes, dtype: int64\n",
      "\n",
      "\n",
      "total intl calls 3     668\n",
      "4     619\n",
      "2     489\n",
      "5     472\n",
      "6     336\n",
      "7     218\n",
      "1     160\n",
      "8     116\n",
      "9     109\n",
      "10     50\n",
      "Name: total intl calls, dtype: int64\n",
      "\n",
      "\n",
      "total intl charge 2.70    62\n",
      "3.05    59\n",
      "2.65    56\n",
      "2.94    56\n",
      "2.73    53\n",
      "        ..\n",
      "0.68     1\n",
      "4.83     1\n",
      "0.84     1\n",
      "0.30     1\n",
      "5.40     1\n",
      "Name: total intl charge, Length: 162, dtype: int64\n",
      "\n",
      "\n",
      "customer service calls 1    1181\n",
      "2     759\n",
      "0     697\n",
      "3     429\n",
      "4     166\n",
      "5      66\n",
      "6      22\n",
      "7       9\n",
      "9       2\n",
      "8       2\n",
      "Name: customer service calls, dtype: int64\n",
      "\n",
      "\n",
      "churn False    2850\n",
      "True      483\n",
      "Name: churn, dtype: int64\n",
      "\n",
      "\n"
     ]
    }
   ],
   "source": [
    "for col in df.columns: # Preliminary view of value counts per column\n",
    "    try:\n",
    "        print(col, df[col].value_counts()[:10])\n",
    "    except:\n",
    "        print(col, df[col].value_counts())\n",
    "        # If there aren't 5+ unique values for a column the first print \n",
    "        # statement will throw an error for an invalid idx slice\n",
    "    print('\\n') # Break up the output between columns"
   ]
  },
  {
   "cell_type": "markdown",
   "metadata": {},
   "source": [
    "# Exploratory Data Analysis\n",
    "## Customer Churn\n",
    "### Customer Service Calls, Voice Mail Plan, International Plan"
   ]
  },
  {
   "cell_type": "code",
   "execution_count": 7,
   "metadata": {
    "ExecuteTime": {
     "end_time": "2020-10-20T05:07:00.214146Z",
     "start_time": "2020-10-20T05:06:59.139561Z"
    }
   },
   "outputs": [],
   "source": [
    "import plotly.express as px"
   ]
  },
  {
   "cell_type": "code",
   "execution_count": 8,
   "metadata": {
    "ExecuteTime": {
     "end_time": "2020-10-20T05:07:00.220009Z",
     "start_time": "2020-10-20T05:07:00.216921Z"
    }
   },
   "outputs": [
    {
     "data": {
      "text/plain": [
       "Index(['state', 'account length', 'area code', 'phone number',\n",
       "       'international plan', 'voice mail plan', 'number vmail messages',\n",
       "       'total day minutes', 'total day calls', 'total day charge',\n",
       "       'total eve minutes', 'total eve calls', 'total eve charge',\n",
       "       'total night minutes', 'total night calls', 'total night charge',\n",
       "       'total intl minutes', 'total intl calls', 'total intl charge',\n",
       "       'customer service calls', 'churn'],\n",
       "      dtype='object')"
      ]
     },
     "execution_count": 8,
     "metadata": {},
     "output_type": "execute_result"
    }
   ],
   "source": [
    "df.columns"
   ]
  },
  {
   "cell_type": "code",
   "execution_count": 9,
   "metadata": {
    "ExecuteTime": {
     "end_time": "2020-10-20T05:07:00.223845Z",
     "start_time": "2020-10-20T05:07:00.221929Z"
    }
   },
   "outputs": [],
   "source": [
    "# fig = px.bar(df, x='account length', y='total day calls', title='Total Day Calls X Account Length')\n",
    "# fig2 = px.bar(df, x='account length', y='total eve calls', title='Total Eve Calls X Account Length')\n",
    "\n",
    "# fig.show()"
   ]
  },
  {
   "cell_type": "code",
   "execution_count": 10,
   "metadata": {
    "ExecuteTime": {
     "end_time": "2020-10-20T05:07:00.706941Z",
     "start_time": "2020-10-20T05:07:00.225135Z"
    }
   },
   "outputs": [
    {
     "data": {
      "image/png": "[encoded data removed]",
      "text/plain": [
       "<Figure size 936x1440 with 3 Axes>"
      ]
     },
     "metadata": {},
     "output_type": "display_data"
    }
   ],
   "source": [
    "sns.set_style('ticks')\n",
    "fig, ax = plt.subplots(nrows=3, ncols=1, figsize=(13,20))\n",
    "\n",
    "ax1 = sns.countplot(x='customer service calls', data=df, hue='churn', palette='rocket', ax=ax[0])\n",
    "ax1.set_title('Churn X Customer Service Calls', fontdict={'fontsize': 16})\n",
    "ax1.set_xlabel('Customer Service Calls', fontdict={'fontsize': 14})\n",
    "ax1.set_ylabel('Service Call Count', fontdict={'fontsize': 12})\n",
    "\n",
    "ax2 = sns.countplot(x='voice mail plan', data=df, hue='churn', palette='rocket', ax=ax[1])\n",
    "ax2.set_title('Churn X Voice Mail Plan', fontdict={'fontsize': 16})\n",
    "ax2.set_xlabel('Voice Mail Plan', fontdict={'fontsize': 14})\n",
    "ax2.set_ylabel('VM Plan Count', fontdict={'fontsize': 12})\n",
    "\n",
    "ax3 = sns.countplot(x='international plan', data=df, hue='churn', palette='rocket', ax=ax[2])\n",
    "ax3.set_title('Churn X International Plan', fontdict={'fontsize': 16})\n",
    "ax3.set_xlabel('International Plan', fontdict={'fontsize': 14})\n",
    "ax3.set_ylabel('International Plan Count', fontdict={'fontsize': 12})\n",
    "\n",
    "plt.subplots_adjust(wspace=0.5)\n",
    "plt.show()"
   ]
  },
  {
   "cell_type": "markdown",
   "metadata": {},
   "source": [
    "### Total Calls: Day, Eve & Night\n",
    "\n",
    "<div class=\"alert alert-success\">\n",
    "\n",
    "Total number of calls will be illustrated in our 'yes' target in order to observe trends in customers who cancel their phone service \n",
    "\n",
    "</div>"
   ]
  },
  {
   "cell_type": "code",
   "execution_count": 11,
   "metadata": {
    "ExecuteTime": {
     "end_time": "2020-10-20T05:07:00.713874Z",
     "start_time": "2020-10-20T05:07:00.709973Z"
    }
   },
   "outputs": [],
   "source": [
    "# yesdf = df_fresh[df_fresh['churn'] == True]\n",
    "\n",
    "yesdf = df.copy()"
   ]
  },
  {
   "cell_type": "code",
   "execution_count": 12,
   "metadata": {
    "ExecuteTime": {
     "end_time": "2020-10-20T05:07:00.720573Z",
     "start_time": "2020-10-20T05:07:00.715615Z"
    }
   },
   "outputs": [],
   "source": [
    "# Binning Day Calls\n",
    "yesdf['daycall_bin'] = yesdf['total day calls'].apply(lambda x: '[0, 25)' if x < 25 \n",
    "                                else '[25, 50)' if x < 50 \n",
    "                                else '[50, 75)' if x < 75\n",
    "                                else '[75, 100)' if x < 100 \n",
    "                                else '[100, 125)' if x < 125 \n",
    "                                else '[125, 150)' if x < 150\n",
    "                                else '[150, 175)' if x < 175 \n",
    "                                else '[175, 200)' if x < 200 \n",
    "                                else '[200, 225)' if x < 225\n",
    "                                else '[225, 250)' if x < 250\n",
    "                                else '250+')"
   ]
  },
  {
   "cell_type": "code",
   "execution_count": 13,
   "metadata": {
    "ExecuteTime": {
     "end_time": "2020-10-20T05:07:00.726756Z",
     "start_time": "2020-10-20T05:07:00.721893Z"
    }
   },
   "outputs": [],
   "source": [
    "# Binning Eve Calls\n",
    "yesdf['evecall_bin'] = yesdf['total eve calls'].apply(lambda x: '[0, 25)' if x < 25 \n",
    "                                else '[25, 50)' if x < 50 \n",
    "                                else '[50, 75)' if x < 75\n",
    "                                else '[75, 100)' if x < 100 \n",
    "                                else '[100, 125)' if x < 125 \n",
    "                                else '[125, 150)' if x < 150\n",
    "                                else '[150, 175)' if x < 175 \n",
    "                                else '[175, 200)' if x < 200 \n",
    "                                else '[200, 225)' if x < 225\n",
    "                                else '[225, 250)' if x < 250\n",
    "                                else '250+')"
   ]
  },
  {
   "cell_type": "code",
   "execution_count": 14,
   "metadata": {
    "ExecuteTime": {
     "end_time": "2020-10-20T05:07:00.732734Z",
     "start_time": "2020-10-20T05:07:00.728105Z"
    }
   },
   "outputs": [],
   "source": [
    "# Binning Eve Calls\n",
    "yesdf['nightcall_bin'] = yesdf['total night calls'].apply(lambda x: '[0, 25)' if x < 25 \n",
    "                                else '[25, 50)' if x < 50 \n",
    "                                else '[50, 75)' if x < 75\n",
    "                                else '[75, 100)' if x < 100 \n",
    "                                else '[100, 125)' if x < 125 \n",
    "                                else '[125, 150)' if x < 150\n",
    "                                else '[150, 175)' if x < 175 \n",
    "                                else '[175, 200)' if x < 200 \n",
    "                                else '[200, 225)' if x < 225\n",
    "                                else '[225, 250)' if x < 250\n",
    "                                else '250+')"
   ]
  },
  {
   "cell_type": "code",
   "execution_count": 15,
   "metadata": {
    "ExecuteTime": {
     "end_time": "2020-10-20T05:07:01.305914Z",
     "start_time": "2020-10-20T05:07:00.734087Z"
    }
   },
   "outputs": [
    {
     "data": {
      "image/png": "[encoded data removed]",
      "text/plain": [
       "<Figure size 1080x1440 with 3 Axes>"
      ]
     },
     "metadata": {},
     "output_type": "display_data"
    }
   ],
   "source": [
    "#sns.set_style('whitegrid')\n",
    "fig, ax = plt.subplots(nrows=3, ncols=1, figsize=(15,20))\n",
    "color1 = ['grey', 'red']\n",
    "color2 = ['grey', 'red']\n",
    "color3 = ['grey', 'red']\n",
    "\n",
    "\n",
    "ax1 = sns.countplot(x='daycall_bin', data=yesdf, hue='churn', palette=sns.xkcd_palette(color1), ax=ax[0])\n",
    "ax1.set_title('Churn X Total Day Calls', fontdict={'fontsize': 16})\n",
    "ax1.set_xlabel('Total Day Calls', fontdict={'fontsize': 14})\n",
    "ax1.set_ylabel('Day Charge Calls', fontdict={'fontsize': 12})\n",
    "\n",
    "ax2 = sns.countplot(x='evecall_bin', data=yesdf, hue='churn', palette=sns.xkcd_palette(color2), ax=ax[1])\n",
    "ax2.set_title('Churn X Total Eve Calls', fontdict={'fontsize': 16})\n",
    "ax2.set_xlabel('Total Eve Calls', fontdict={'fontsize': 14})\n",
    "ax2.set_ylabel('Eve Charge Calls', fontdict={'fontsize': 12})\n",
    "\n",
    "ax3 = sns.countplot(x='nightcall_bin', data=yesdf, hue='churn', palette=sns.xkcd_palette(color3), ax=ax[2])\n",
    "ax3.set_title('Churn X Total Night Calls', fontdict={'fontsize': 16})\n",
    "ax3.set_xlabel('Total Night Calls', fontdict={'fontsize': 14})\n",
    "ax3.set_ylabel('Night Charge Calls', fontdict={'fontsize': 12})\n",
    "\n",
    "plt.subplots_adjust(wspace=0.5)\n",
    "plt.show()"
   ]
  },
  {
   "cell_type": "markdown",
   "metadata": {},
   "source": [
    "# Preprocessing\n",
    "## Type Conversion"
   ]
  },
  {
   "cell_type": "code",
   "execution_count": null,
   "metadata": {
    "ExecuteTime": {
     "end_time": "2020-10-16T21:01:46.788650Z",
     "start_time": "2020-10-16T21:01:46.781078Z"
    }
   },
   "outputs": [],
   "source": [
    "# converting floats to integers \n",
    "floatcols = ['total day minutes', 'total day charge', 'total eve minutes', \n",
    "             'total eve charge', 'total night minutes', 'total night charge', \n",
    "             'total intl minutes', 'total intl charge']\n",
    "\n",
    "for col in floatcols:\n",
    "    df[col] = df[col].astype('int')"
   ]
  },
  {
   "cell_type": "markdown",
   "metadata": {},
   "source": [
    "## Column Names"
   ]
  },
  {
   "cell_type": "code",
   "execution_count": null,
   "metadata": {
    "ExecuteTime": {
     "end_time": "2020-10-16T21:01:46.793960Z",
     "start_time": "2020-10-16T21:01:46.790373Z"
    }
   },
   "outputs": [],
   "source": [
    "# cleaning column names\n",
    "subs = [(' ', '_'),('.0','')]\n",
    "\n",
    "def col_formatting(col):\n",
    "    '''Replacing Column Features for Model Processing'''\n",
    "    for old, new in subs:\n",
    "        col = col.replace(old,new)\n",
    "    return col\n",
    "\n",
    "df.columns = [col_formatting(col) for col in df.columns]"
   ]
  },
  {
   "cell_type": "markdown",
   "metadata": {},
   "source": [
    "## Multicollinearity"
   ]
  },
  {
   "cell_type": "code",
   "execution_count": null,
   "metadata": {
    "ExecuteTime": {
     "end_time": "2020-10-16T21:01:47.895421Z",
     "start_time": "2020-10-16T21:01:46.795794Z"
    },
    "scrolled": true
   },
   "outputs": [],
   "source": [
    "corr = df.corr() # analyzing correlation\n",
    "# corr\n",
    "fig, ax = plt.subplots(figsize=(18,26))\n",
    "mask = np.triu(np.ones_like(corr, dtype=np.bool))\n",
    "sns.heatmap(corr, mask=mask, square=True, annot=True, cmap=\"YlGnBu\")\n",
    "#xticklabels=labels, yticklabels=labels)\n",
    "#plt.xticks(rotation=-45, fontsize=16)\n",
    "ax.patch.set_edgecolor('black')  \n",
    "ax.patch.set_linewidth('1')\n",
    "ax.set_title(\"Correlation & Heat Map\", fontsize=15, fontfamily=\"serif\")\n",
    "plt.show()"
   ]
  },
  {
   "cell_type": "markdown",
   "metadata": {},
   "source": [
    "<div class=\"alert alert-success\">\n",
    "\n",
    "Strong correlation between the \"total day\" categories and total charge. Lesser relationship with \"total eve\" categories with an even weaker relationship with \"total night\" categories.\n",
    "\n",
    "</div>"
   ]
  },
  {
   "cell_type": "markdown",
   "metadata": {},
   "source": [
    "## Dropping Features"
   ]
  },
  {
   "cell_type": "code",
   "execution_count": null,
   "metadata": {
    "ExecuteTime": {
     "end_time": "2020-10-16T21:01:47.901837Z",
     "start_time": "2020-10-16T21:01:47.897319Z"
    },
    "scrolled": true
   },
   "outputs": [],
   "source": [
    "# Drop \"charge\" categories to address multicollinearity as well as \n",
    "# the phone number (identifier) column\n",
    "\n",
    "df = df.drop(['phone_number', 'total_day_charge', 'total_eve_charge', 'total_night_charge', 'total_intl_charge'], axis=1)"
   ]
  },
  {
   "cell_type": "markdown",
   "metadata": {},
   "source": [
    "# Model"
   ]
  },
  {
   "cell_type": "code",
   "execution_count": null,
   "metadata": {
    "ExecuteTime": {
     "end_time": "2020-10-16T21:01:47.906166Z",
     "start_time": "2020-10-16T21:01:47.903284Z"
    }
   },
   "outputs": [],
   "source": [
    "dataset = df.copy()"
   ]
  },
  {
   "cell_type": "code",
   "execution_count": null,
   "metadata": {
    "ExecuteTime": {
     "end_time": "2020-10-16T21:01:48.787962Z",
     "start_time": "2020-10-16T21:01:47.907594Z"
    }
   },
   "outputs": [],
   "source": [
    "import pycaret\n",
    "import pycaret.preprocess as preprocess\n",
    "from pycaret.datasets import get_data\n",
    "from pycaret.classification import *\n",
    "import pycaret.preprocess as preprocess"
   ]
  },
  {
   "cell_type": "code",
   "execution_count": null,
   "metadata": {
    "ExecuteTime": {
     "end_time": "2020-10-16T21:01:48.794703Z",
     "start_time": "2020-10-16T21:01:48.791522Z"
    }
   },
   "outputs": [],
   "source": [
    "dataset.shape"
   ]
  },
  {
   "cell_type": "markdown",
   "metadata": {},
   "source": [
    "## Test/Train Split"
   ]
  },
  {
   "cell_type": "code",
   "execution_count": null,
   "metadata": {
    "ExecuteTime": {
     "end_time": "2020-10-16T21:01:48.803311Z",
     "start_time": "2020-10-16T21:01:48.797089Z"
    }
   },
   "outputs": [],
   "source": [
    "data = dataset.sample(frac=0.95, random_state=786).reset_index(drop=True)\n",
    "data_unseen = dataset.drop(data.index).reset_index(drop=True)\n",
    "\n",
    "print('Data for Modeling: ' + str(data.shape))\n",
    "print('Unseen Data For Predictions: ' + str(data_unseen.shape))"
   ]
  },
  {
   "cell_type": "markdown",
   "metadata": {},
   "source": [
    "## Feature Conversion, Label Encoding, Normalizing & Class Imbalance"
   ]
  },
  {
   "cell_type": "markdown",
   "metadata": {},
   "source": [
    "<div class=\"alert alert-success\">\n",
    "\n",
    "Dataset Changes\n",
    "* Converting categorical variables to numerical\n",
    "* Label encode data\n",
    "* Normalizing the dataset using the z-score method. \n",
    "* Addressing class imbalance in our target variable using SMOTE. \n",
    "\n",
    "**Processing methods available via pycaret's setup function.**\n",
    "\n",
    "</div>"
   ]
  },
  {
   "cell_type": "code",
   "execution_count": null,
   "metadata": {
    "ExecuteTime": {
     "end_time": "2020-10-16T21:01:53.938789Z",
     "start_time": "2020-10-16T21:01:48.804942Z"
    }
   },
   "outputs": [],
   "source": [
    "# testpycar = setup(data = data, target ='churn', create_clusters=True, session_id=0, normalize=True, n_jobs=-1, feature_ratio=True, use_gpu=True)\n",
    "testpycar = setup(data = data, target = 'churn', numeric_features = ['total_intl_minutes', 'total_intl_calls', 'customer_service_calls'], fix_imbalance=True, session_id=123, normalize=True, n_jobs=-1, feature_ratio=False, use_gpu=True) "
   ]
  },
  {
   "cell_type": "markdown",
   "metadata": {},
   "source": [
    "## Comparing All Models"
   ]
  },
  {
   "cell_type": "code",
   "execution_count": null,
   "metadata": {
    "ExecuteTime": {
     "end_time": "2020-10-16T21:03:08.287630Z",
     "start_time": "2020-10-16T21:01:53.940600Z"
    }
   },
   "outputs": [],
   "source": [
    "compare_models()"
   ]
  },
  {
   "cell_type": "markdown",
   "metadata": {},
   "source": [
    "## Model: Light Gradient Boosting Machine"
   ]
  },
  {
   "cell_type": "code",
   "execution_count": null,
   "metadata": {
    "ExecuteTime": {
     "end_time": "2020-10-16T21:03:15.246701Z",
     "start_time": "2020-10-16T21:03:08.289612Z"
    }
   },
   "outputs": [],
   "source": [
    "lightgbm = create_model('lightgbm')"
   ]
  },
  {
   "cell_type": "code",
   "execution_count": null,
   "metadata": {
    "ExecuteTime": {
     "end_time": "2020-10-16T21:03:15.252400Z",
     "start_time": "2020-10-16T21:03:15.248681Z"
    }
   },
   "outputs": [],
   "source": [
    "print(lightgbm)"
   ]
  },
  {
   "cell_type": "markdown",
   "metadata": {},
   "source": [
    "## Tune Hyperparameters"
   ]
  },
  {
   "cell_type": "code",
   "execution_count": null,
   "metadata": {
    "ExecuteTime": {
     "end_time": "2020-10-16T21:03:20.210834Z",
     "start_time": "2020-10-16T21:03:15.254385Z"
    }
   },
   "outputs": [],
   "source": [
    "tuned_lightgbm = tune_model(lightgbm, optimize = 'AUC')"
   ]
  },
  {
   "cell_type": "markdown",
   "metadata": {},
   "source": [
    "# Interpret"
   ]
  },
  {
   "cell_type": "markdown",
   "metadata": {},
   "source": [
    "## AUC-ROC"
   ]
  },
  {
   "cell_type": "code",
   "execution_count": null,
   "metadata": {
    "ExecuteTime": {
     "end_time": "2020-10-16T21:03:20.623087Z",
     "start_time": "2020-10-16T21:03:20.213033Z"
    }
   },
   "outputs": [],
   "source": [
    "plot_model(tuned_lightgbm, plot = 'auc')"
   ]
  },
  {
   "cell_type": "markdown",
   "metadata": {},
   "source": [
    "## Feature Selection"
   ]
  },
  {
   "cell_type": "code",
   "execution_count": null,
   "metadata": {
    "ExecuteTime": {
     "end_time": "2020-10-16T21:03:20.859569Z",
     "start_time": "2020-10-16T21:03:20.624749Z"
    }
   },
   "outputs": [],
   "source": [
    "plot_model(tuned_lightgbm, plot='feature')"
   ]
  },
  {
   "cell_type": "code",
   "execution_count": null,
   "metadata": {
    "ExecuteTime": {
     "end_time": "2020-10-16T21:03:21.051417Z",
     "start_time": "2020-10-16T21:03:20.861346Z"
    }
   },
   "outputs": [],
   "source": [
    "plot_model(tuned_lightgbm, plot = 'confusion_matrix')"
   ]
  },
  {
   "cell_type": "code",
   "execution_count": null,
   "metadata": {
    "ExecuteTime": {
     "end_time": "2020-10-16T21:03:21.137579Z",
     "start_time": "2020-10-16T21:03:21.053609Z"
    }
   },
   "outputs": [],
   "source": [
    "evaluate_model(tuned_lightgbm)"
   ]
  },
  {
   "cell_type": "code",
   "execution_count": null,
   "metadata": {
    "ExecuteTime": {
     "end_time": "2020-10-16T21:03:21.179644Z",
     "start_time": "2020-10-16T21:03:21.139164Z"
    },
    "scrolled": true
   },
   "outputs": [],
   "source": [
    "# final check using the unseen data / test\n",
    "predict_model(tuned_lightgbm);"
   ]
  },
  {
   "cell_type": "code",
   "execution_count": null,
   "metadata": {
    "ExecuteTime": {
     "end_time": "2020-10-16T21:03:22.476214Z",
     "start_time": "2020-10-16T21:03:21.181640Z"
    }
   },
   "outputs": [],
   "source": [
    "# Final Model / trained on the complete dataset\n",
    "final_lightgbm = finalize_model(tuned_lightgbm)"
   ]
  },
  {
   "cell_type": "code",
   "execution_count": null,
   "metadata": {
    "ExecuteTime": {
     "end_time": "2020-10-16T21:03:22.623893Z",
     "start_time": "2020-10-16T21:03:22.478058Z"
    }
   },
   "outputs": [],
   "source": [
    "# predicting using the unseen data\n",
    "unseen_predictions = predict_model(tuned_lightgbm, data=data_unseen)\n",
    "unseen_predictions.head()"
   ]
  },
  {
   "cell_type": "markdown",
   "metadata": {},
   "source": [
    "# Feature Importance\n",
    "<div class=\"alert alert-success\">\n",
    "\n",
    "The top three features of our model are:\n",
    "* Customer Service Calls\n",
    "* Total Day Minutes\n",
    "* Total International Minutes\n",
    "\n",
    "</div>"
   ]
  },
  {
   "cell_type": "code",
   "execution_count": 16,
   "metadata": {
    "ExecuteTime": {
     "end_time": "2020-10-20T05:16:16.196525Z",
     "start_time": "2020-10-20T05:16:15.782669Z"
    }
   },
   "outputs": [
    {
     "ename": "KeyError",
     "evalue": "'total_day_minutes'",
     "output_type": "error",
     "traceback": [
      "\u001b[0;31m---------------------------------------------------------------------------\u001b[0m",
      "\u001b[0;31mKeyError\u001b[0m                                  Traceback (most recent call last)",
      "\u001b[0;32m~/opt/anaconda3/envs/learn-env/lib/python3.6/site-packages/pandas/core/indexes/base.py\u001b[0m in \u001b[0;36mget_loc\u001b[0;34m(self, key, method, tolerance)\u001b[0m\n\u001b[1;32m   2645\u001b[0m             \u001b[0;32mtry\u001b[0m\u001b[0;34m:\u001b[0m\u001b[0;34m\u001b[0m\u001b[0;34m\u001b[0m\u001b[0m\n\u001b[0;32m-> 2646\u001b[0;31m                 \u001b[0;32mreturn\u001b[0m \u001b[0mself\u001b[0m\u001b[0;34m.\u001b[0m\u001b[0m_engine\u001b[0m\u001b[0;34m.\u001b[0m\u001b[0mget_loc\u001b[0m\u001b[0;34m(\u001b[0m\u001b[0mkey\u001b[0m\u001b[0;34m)\u001b[0m\u001b[0;34m\u001b[0m\u001b[0;34m\u001b[0m\u001b[0m\n\u001b[0m\u001b[1;32m   2647\u001b[0m             \u001b[0;32mexcept\u001b[0m \u001b[0mKeyError\u001b[0m\u001b[0;34m:\u001b[0m\u001b[0;34m\u001b[0m\u001b[0;34m\u001b[0m\u001b[0m\n",
      "\u001b[0;32mpandas/_libs/index.pyx\u001b[0m in \u001b[0;36mpandas._libs.index.IndexEngine.get_loc\u001b[0;34m()\u001b[0m\n",
      "\u001b[0;32mpandas/_libs/index.pyx\u001b[0m in \u001b[0;36mpandas._libs.index.IndexEngine.get_loc\u001b[0;34m()\u001b[0m\n",
      "\u001b[0;32mpandas/_libs/hashtable_class_helper.pxi\u001b[0m in \u001b[0;36mpandas._libs.hashtable.PyObjectHashTable.get_item\u001b[0;34m()\u001b[0m\n",
      "\u001b[0;32mpandas/_libs/hashtable_class_helper.pxi\u001b[0m in \u001b[0;36mpandas._libs.hashtable.PyObjectHashTable.get_item\u001b[0;34m()\u001b[0m\n",
      "\u001b[0;31mKeyError\u001b[0m: 'total_day_minutes'",
      "\nDuring handling of the above exception, another exception occurred:\n",
      "\u001b[0;31mKeyError\u001b[0m                                  Traceback (most recent call last)",
      "\u001b[0;32m<ipython-input-16-873da45415c3>\u001b[0m in \u001b[0;36m<module>\u001b[0;34m\u001b[0m\n\u001b[1;32m      1\u001b[0m \u001b[0;31m# Binning Total Day Minutes | Visualization\u001b[0m\u001b[0;34m\u001b[0m\u001b[0;34m\u001b[0m\u001b[0;34m\u001b[0m\u001b[0m\n\u001b[0;32m----> 2\u001b[0;31m df['day_min_bin'] = df['total_day_minutes'].apply(lambda x: '[0, 25)' if x < 25 \n\u001b[0m\u001b[1;32m      3\u001b[0m                                 \u001b[0;32melse\u001b[0m \u001b[0;34m'[25, 50)'\u001b[0m \u001b[0;32mif\u001b[0m \u001b[0mx\u001b[0m \u001b[0;34m<\u001b[0m \u001b[0;36m50\u001b[0m\u001b[0;34m\u001b[0m\u001b[0;34m\u001b[0m\u001b[0m\n\u001b[1;32m      4\u001b[0m                                 \u001b[0;32melse\u001b[0m \u001b[0;34m'[50, 75)'\u001b[0m \u001b[0;32mif\u001b[0m \u001b[0mx\u001b[0m \u001b[0;34m<\u001b[0m \u001b[0;36m75\u001b[0m\u001b[0;34m\u001b[0m\u001b[0;34m\u001b[0m\u001b[0m\n\u001b[1;32m      5\u001b[0m                                 \u001b[0;32melse\u001b[0m \u001b[0;34m'[75, 100)'\u001b[0m \u001b[0;32mif\u001b[0m \u001b[0mx\u001b[0m \u001b[0;34m<\u001b[0m \u001b[0;36m100\u001b[0m\u001b[0;34m\u001b[0m\u001b[0;34m\u001b[0m\u001b[0m\n",
      "\u001b[0;32m~/opt/anaconda3/envs/learn-env/lib/python3.6/site-packages/pandas/core/frame.py\u001b[0m in \u001b[0;36m__getitem__\u001b[0;34m(self, key)\u001b[0m\n\u001b[1;32m   2798\u001b[0m             \u001b[0;32mif\u001b[0m \u001b[0mself\u001b[0m\u001b[0;34m.\u001b[0m\u001b[0mcolumns\u001b[0m\u001b[0;34m.\u001b[0m\u001b[0mnlevels\u001b[0m \u001b[0;34m>\u001b[0m \u001b[0;36m1\u001b[0m\u001b[0;34m:\u001b[0m\u001b[0;34m\u001b[0m\u001b[0;34m\u001b[0m\u001b[0m\n\u001b[1;32m   2799\u001b[0m                 \u001b[0;32mreturn\u001b[0m \u001b[0mself\u001b[0m\u001b[0;34m.\u001b[0m\u001b[0m_getitem_multilevel\u001b[0m\u001b[0;34m(\u001b[0m\u001b[0mkey\u001b[0m\u001b[0;34m)\u001b[0m\u001b[0;34m\u001b[0m\u001b[0;34m\u001b[0m\u001b[0m\n\u001b[0;32m-> 2800\u001b[0;31m             \u001b[0mindexer\u001b[0m \u001b[0;34m=\u001b[0m \u001b[0mself\u001b[0m\u001b[0;34m.\u001b[0m\u001b[0mcolumns\u001b[0m\u001b[0;34m.\u001b[0m\u001b[0mget_loc\u001b[0m\u001b[0;34m(\u001b[0m\u001b[0mkey\u001b[0m\u001b[0;34m)\u001b[0m\u001b[0;34m\u001b[0m\u001b[0;34m\u001b[0m\u001b[0m\n\u001b[0m\u001b[1;32m   2801\u001b[0m             \u001b[0;32mif\u001b[0m \u001b[0mis_integer\u001b[0m\u001b[0;34m(\u001b[0m\u001b[0mindexer\u001b[0m\u001b[0;34m)\u001b[0m\u001b[0;34m:\u001b[0m\u001b[0;34m\u001b[0m\u001b[0;34m\u001b[0m\u001b[0m\n\u001b[1;32m   2802\u001b[0m                 \u001b[0mindexer\u001b[0m \u001b[0;34m=\u001b[0m \u001b[0;34m[\u001b[0m\u001b[0mindexer\u001b[0m\u001b[0;34m]\u001b[0m\u001b[0;34m\u001b[0m\u001b[0;34m\u001b[0m\u001b[0m\n",
      "\u001b[0;32m~/opt/anaconda3/envs/learn-env/lib/python3.6/site-packages/pandas/core/indexes/base.py\u001b[0m in \u001b[0;36mget_loc\u001b[0;34m(self, key, method, tolerance)\u001b[0m\n\u001b[1;32m   2646\u001b[0m                 \u001b[0;32mreturn\u001b[0m \u001b[0mself\u001b[0m\u001b[0;34m.\u001b[0m\u001b[0m_engine\u001b[0m\u001b[0;34m.\u001b[0m\u001b[0mget_loc\u001b[0m\u001b[0;34m(\u001b[0m\u001b[0mkey\u001b[0m\u001b[0;34m)\u001b[0m\u001b[0;34m\u001b[0m\u001b[0;34m\u001b[0m\u001b[0m\n\u001b[1;32m   2647\u001b[0m             \u001b[0;32mexcept\u001b[0m \u001b[0mKeyError\u001b[0m\u001b[0;34m:\u001b[0m\u001b[0;34m\u001b[0m\u001b[0;34m\u001b[0m\u001b[0m\n\u001b[0;32m-> 2648\u001b[0;31m                 \u001b[0;32mreturn\u001b[0m \u001b[0mself\u001b[0m\u001b[0;34m.\u001b[0m\u001b[0m_engine\u001b[0m\u001b[0;34m.\u001b[0m\u001b[0mget_loc\u001b[0m\u001b[0;34m(\u001b[0m\u001b[0mself\u001b[0m\u001b[0;34m.\u001b[0m\u001b[0m_maybe_cast_indexer\u001b[0m\u001b[0;34m(\u001b[0m\u001b[0mkey\u001b[0m\u001b[0;34m)\u001b[0m\u001b[0;34m)\u001b[0m\u001b[0;34m\u001b[0m\u001b[0;34m\u001b[0m\u001b[0m\n\u001b[0m\u001b[1;32m   2649\u001b[0m         \u001b[0mindexer\u001b[0m \u001b[0;34m=\u001b[0m \u001b[0mself\u001b[0m\u001b[0;34m.\u001b[0m\u001b[0mget_indexer\u001b[0m\u001b[0;34m(\u001b[0m\u001b[0;34m[\u001b[0m\u001b[0mkey\u001b[0m\u001b[0;34m]\u001b[0m\u001b[0;34m,\u001b[0m \u001b[0mmethod\u001b[0m\u001b[0;34m=\u001b[0m\u001b[0mmethod\u001b[0m\u001b[0;34m,\u001b[0m \u001b[0mtolerance\u001b[0m\u001b[0;34m=\u001b[0m\u001b[0mtolerance\u001b[0m\u001b[0;34m)\u001b[0m\u001b[0;34m\u001b[0m\u001b[0;34m\u001b[0m\u001b[0m\n\u001b[1;32m   2650\u001b[0m         \u001b[0;32mif\u001b[0m \u001b[0mindexer\u001b[0m\u001b[0;34m.\u001b[0m\u001b[0mndim\u001b[0m \u001b[0;34m>\u001b[0m \u001b[0;36m1\u001b[0m \u001b[0;32mor\u001b[0m \u001b[0mindexer\u001b[0m\u001b[0;34m.\u001b[0m\u001b[0msize\u001b[0m \u001b[0;34m>\u001b[0m \u001b[0;36m1\u001b[0m\u001b[0;34m:\u001b[0m\u001b[0;34m\u001b[0m\u001b[0;34m\u001b[0m\u001b[0m\n",
      "\u001b[0;32mpandas/_libs/index.pyx\u001b[0m in \u001b[0;36mpandas._libs.index.IndexEngine.get_loc\u001b[0;34m()\u001b[0m\n",
      "\u001b[0;32mpandas/_libs/index.pyx\u001b[0m in \u001b[0;36mpandas._libs.index.IndexEngine.get_loc\u001b[0;34m()\u001b[0m\n",
      "\u001b[0;32mpandas/_libs/hashtable_class_helper.pxi\u001b[0m in \u001b[0;36mpandas._libs.hashtable.PyObjectHashTable.get_item\u001b[0;34m()\u001b[0m\n",
      "\u001b[0;32mpandas/_libs/hashtable_class_helper.pxi\u001b[0m in \u001b[0;36mpandas._libs.hashtable.PyObjectHashTable.get_item\u001b[0;34m()\u001b[0m\n",
      "\u001b[0;31mKeyError\u001b[0m: 'total_day_minutes'"
     ]
    }
   ],
   "source": [
    "# Binning Total Day Minutes | Visualization\n",
    "df['day_min_bin'] = df['total_day_minutes'].apply(lambda x: '[0, 25)' if x < 25 \n",
    "                                else '[25, 50)' if x < 50 \n",
    "                                else '[50, 75)' if x < 75\n",
    "                                else '[75, 100)' if x < 100 \n",
    "                                else '[100, 125)' if x < 125 \n",
    "                                else '[125, 150)' if x < 150\n",
    "                                else '[150, 175)' if x < 175 \n",
    "                                else '[175, 200)' if x < 200 \n",
    "                                else '[200, 225)' if x < 225\n",
    "                                else '[225, 250)' if x < 250\n",
    "                                else '250+')"
   ]
  },
  {
   "cell_type": "code",
   "execution_count": null,
   "metadata": {
    "ExecuteTime": {
     "end_time": "2020-10-20T05:16:16.199503Z",
     "start_time": "2020-10-20T05:16:15.783Z"
    }
   },
   "outputs": [],
   "source": [
    "# Removing The Decimals | Visualization\n",
    "df['total_intl_minutes'] = df['total_intl_minutes'].astype(int)"
   ]
  },
  {
   "cell_type": "code",
   "execution_count": null,
   "metadata": {
    "ExecuteTime": {
     "end_time": "2020-10-20T05:16:16.201072Z",
     "start_time": "2020-10-20T05:16:15.786Z"
    }
   },
   "outputs": [],
   "source": [
    "sns.set_style('ticks')\n",
    "fig, ax = plt.subplots(nrows=3, ncols=1, figsize=(12,20))\n",
    "\n",
    "ax1 = sns.countplot(x='customer_service_calls', data=df, hue='churn', palette='Paired', ax=ax[0])\n",
    "ax1.set_title('Churn X Customer Service Calls', fontdict={'fontsize': 16})\n",
    "ax1.set_xlabel('Customer Service Calls', fontdict={'fontsize': 14})\n",
    "ax1.set_ylabel('Service Call Count', fontdict={'fontsize': 12})\n",
    "\n",
    "ax2 = sns.countplot(x='day_min_bin', data=df, hue='churn', palette='Paired', ax=ax[1])\n",
    "ax2.set_title('Churn X Total Day Minutes', fontdict={'fontsize': 16})\n",
    "ax2.set_xlabel('Total Day Minutes', fontdict={'fontsize': 14})\n",
    "ax2.set_ylabel('Frequency - Day Minutes', fontdict={'fontsize': 12})\n",
    "\n",
    "ax3 = sns.countplot(x='total_intl_minutes', data=df, hue='churn', palette='Paired', ax=ax[2])\n",
    "ax3.set_title('Churn X Total International Calls', fontdict={'fontsize': 16})\n",
    "ax3.set_xlabel('Total International Minutes', fontdict={'fontsize': 14})\n",
    "ax3.set_ylabel('Frequency - International Minutes', fontdict={'fontsize': 12})\n",
    "\n",
    "plt.subplots_adjust(wspace=0.5)\n",
    "plt.show()"
   ]
  },
  {
   "cell_type": "markdown",
   "metadata": {},
   "source": [
    "# SHAP for Interpretation"
   ]
  },
  {
   "cell_type": "code",
   "execution_count": null,
   "metadata": {
    "ExecuteTime": {
     "end_time": "2020-10-20T05:16:16.202566Z",
     "start_time": "2020-10-20T05:16:15.788Z"
    }
   },
   "outputs": [],
   "source": [
    "# interpret model: SHAP\n",
    "interpret_model(tuned_lightgbm)"
   ]
  },
  {
   "cell_type": "code",
   "execution_count": null,
   "metadata": {
    "ExecuteTime": {
     "end_time": "2020-10-20T05:16:16.204064Z",
     "start_time": "2020-10-20T05:16:15.790Z"
    }
   },
   "outputs": [],
   "source": [
    "# interpret model : Correlation\n",
    "interpret_model(tuned_lightgbm,plot='correlation')"
   ]
  },
  {
   "cell_type": "markdown",
   "metadata": {},
   "source": [
    "# Conclusion, Insights and Future Work\n",
    "## Conclusion\n",
    "The dataset offered various consumer trends and illustrated multiple areas of opportunity. Two areas of opportunity addressed common retail business pitfalls; customer service and high cost products (international minutes being the most expensive). Lastly, day minutes are the most common of the available categories and directly influenced the majority of consumer costs. These and future trends can be used to prepare for future business.\n",
    "\n",
    "<div class=\"alert alert-success\">\n",
    "\n",
    "## Business Recommendations \n",
    "\n",
    "**Customer Service Calls:**\n",
    "* Churn is highest during the first 3 customer service interactions. SyriaTel should deploy an A-Team of high performers to address  incoming service calls from new customers.  \n",
    "\n",
    "**Total Day Minutes:**\n",
    "* Total day minutes make up the majority of the minutes consumed and therefore relay to the largest percentage of the total cost. SyriaTel can create and market advertisements for consuming minutes during low peak business hours or consider changing their day pricing (adjusting eve, night and intl costs to compensate).\n",
    "\n",
    "**Total International Minutes:**\n",
    "* Churn grows exponentially as consumers go over 7 international minutes. SyriaTel should create an outreach campaign to inform customers when they are going over the 5 international minute threshold. SyriaTel should also consider creating a forgiveness program for first time customers who consumed large amounts of international minutes without knowing the cost (one time only). \n",
    "\n",
    "</div>\n",
    "\n",
    "Future Work\n",
    "In order to more accurately define the boundaries of our features it is important to understand what customs and cultural influences are tied to this dataset. SyriaTel is not a United States based cell phone carrier and cultural influences may impact the way we perceive the information. In addition, it would be helpful to have more client specific data in order to understand on an individual level which client segments are leaving the company and what features they share. "
   ]
  },
  {
   "cell_type": "code",
   "execution_count": null,
   "metadata": {},
   "outputs": [],
   "source": []
  }
 ],
 "metadata": {
  "kernelspec": {
   "display_name": "Python 3",
   "language": "python",
   "name": "python3"
  },
  "language_info": {
   "codemirror_mode": {
    "name": "ipython",
    "version": 3
   },
   "file_extension": ".py",
   "mimetype": "text/x-python",
   "name": "python",
   "nbconvert_exporter": "python",
   "pygments_lexer": "ipython3",
   "version": "3.6.9"
  },
  "toc": {
   "base_numbering": 1,
   "nav_menu": {},
   "number_sections": true,
   "sideBar": true,
   "skip_h1_title": false,
   "title_cell": "Table of Contents",
   "title_sidebar": "Contents",
   "toc_cell": false,
   "toc_position": {
    "height": "calc(100% - 180px)",
    "left": "10px",
    "top": "150px",
    "width": "210.1875px"
   },
   "toc_section_display": true,
   "toc_window_display": true
  }
 },
 "nbformat": 4,
 "nbformat_minor": 2
}
